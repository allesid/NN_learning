{
  "nbformat": 4,
  "nbformat_minor": 0,
  "metadata": {
    "accelerator": "GPU",
    "colab": {
      "name": "module05_mnist_conv.ipynb",
      "provenance": [],
      "collapsed_sections": [],
      "include_colab_link": true
    },
    "kernelspec": {
      "display_name": "Python 3",
      "language": "python",
      "name": "python3"
    },
    "language_info": {
      "codemirror_mode": {
        "name": "ipython",
        "version": 3
      },
      "file_extension": ".py",
      "mimetype": "text/x-python",
      "name": "python",
      "nbconvert_exporter": "python",
      "pygments_lexer": "ipython3",
      "version": "3.6.12"
    }
  },
  "cells": [
    {
      "cell_type": "markdown",
      "metadata": {
        "id": "view-in-github",
        "colab_type": "text"
      },
      "source": [
        "<a href=\"https://colab.research.google.com/github/allesid/NN_learning/blob/main/module05_mnist_conv.ipynb\" target=\"_parent\"><img src=\"https://colab.research.google.com/assets/colab-badge.svg\" alt=\"Open In Colab\"/></a>"
      ]
    },
    {
      "cell_type": "code",
      "metadata": {
        "id": "85_HkTjcNZeg"
      },
      "source": [
        "import torch\n",
        "import random\n",
        "import numpy as np\n",
        "\n",
        "random.seed(0)\n",
        "np.random.seed(0)\n",
        "torch.manual_seed(0)\n",
        "torch.cuda.manual_seed(0)\n",
        "torch.backends.cudnn.deterministic = True"
      ],
      "execution_count": 1,
      "outputs": []
    },
    {
      "cell_type": "code",
      "metadata": {
        "id": "kjPVw9UfNZel"
      },
      "source": [
        "import torchvision.datasets"
      ],
      "execution_count": 2,
      "outputs": []
    },
    {
      "cell_type": "code",
      "metadata": {
        "id": "buWKcUqGNZeo"
      },
      "source": [
        "MNIST_train = torchvision.datasets.MNIST('./', download=True, train=True)\n",
        "MNIST_test = torchvision.datasets.MNIST('./', download=True, train=False)\n"
      ],
      "execution_count": 3,
      "outputs": []
    },
    {
      "cell_type": "code",
      "metadata": {
        "colab": {
          "base_uri": "https://localhost:8080/"
        },
        "id": "nyrpGOtPNZeq",
        "outputId": "ed42c5ed-259c-4e3f-b07b-bace0b9bfe77"
      },
      "source": [
        "X_train = MNIST_train.train_data\n",
        "y_train = MNIST_train.train_labels\n",
        "X_test = MNIST_test.test_data\n",
        "y_test = MNIST_test.test_labels"
      ],
      "execution_count": 4,
      "outputs": [
        {
          "output_type": "stream",
          "text": [
            "/usr/local/lib/python3.7/dist-packages/torchvision/datasets/mnist.py:64: UserWarning: train_data has been renamed data\n",
            "  warnings.warn(\"train_data has been renamed data\")\n",
            "/usr/local/lib/python3.7/dist-packages/torchvision/datasets/mnist.py:54: UserWarning: train_labels has been renamed targets\n",
            "  warnings.warn(\"train_labels has been renamed targets\")\n",
            "/usr/local/lib/python3.7/dist-packages/torchvision/datasets/mnist.py:69: UserWarning: test_data has been renamed data\n",
            "  warnings.warn(\"test_data has been renamed data\")\n",
            "/usr/local/lib/python3.7/dist-packages/torchvision/datasets/mnist.py:59: UserWarning: test_labels has been renamed targets\n",
            "  warnings.warn(\"test_labels has been renamed targets\")\n"
          ],
          "name": "stderr"
        }
      ]
    },
    {
      "cell_type": "code",
      "metadata": {
        "colab": {
          "base_uri": "https://localhost:8080/"
        },
        "id": "f_TmOTWdNZet",
        "outputId": "53b074a9-5b21-4b4a-b17c-26bfacb34877"
      },
      "source": [
        "len(y_train), len(y_test)"
      ],
      "execution_count": 5,
      "outputs": [
        {
          "output_type": "execute_result",
          "data": {
            "text/plain": [
              "(60000, 10000)"
            ]
          },
          "metadata": {
            "tags": []
          },
          "execution_count": 5
        }
      ]
    },
    {
      "cell_type": "code",
      "metadata": {
        "colab": {
          "base_uri": "https://localhost:8080/",
          "height": 282
        },
        "id": "Zd-E4vIpNZe1",
        "outputId": "6064f80b-de50-4612-f756-2f04f33ac903"
      },
      "source": [
        "import matplotlib.pyplot as plt\n",
        "plt.imshow(X_train[0, :, :])\n",
        "plt.show()\n",
        "print(y_train[0])"
      ],
      "execution_count": 6,
      "outputs": [
        {
          "output_type": "display_data",
          "data": {
            "image/png": "[encoded data removed]",
            "text/plain": [
              "<Figure size 432x288 with 1 Axes>"
            ]
          },
          "metadata": {
            "tags": [],
            "needs_background": "light"
          }
        },
        {
          "output_type": "stream",
          "text": [
            "tensor(5)\n"
          ],
          "name": "stdout"
        }
      ]
    },
    {
      "cell_type": "code",
      "metadata": {
        "id": "Tf9LiDGuNZe6"
      },
      "source": [
        "X_train = X_train.unsqueeze(1).float()\n",
        "X_test = X_test.unsqueeze(1).float()"
      ],
      "execution_count": 7,
      "outputs": []
    },
    {
      "cell_type": "code",
      "metadata": {
        "colab": {
          "base_uri": "https://localhost:8080/"
        },
        "id": "kxKAhEYHNZe-",
        "outputId": "1045cf6b-857e-4486-9de6-9b60bf3d866c"
      },
      "source": [
        "X_train.shape"
      ],
      "execution_count": 8,
      "outputs": [
        {
          "output_type": "execute_result",
          "data": {
            "text/plain": [
              "torch.Size([60000, 1, 28, 28])"
            ]
          },
          "metadata": {
            "tags": []
          },
          "execution_count": 8
        }
      ]
    },
    {
      "cell_type": "code",
      "metadata": {
        "id": "xhsw9soDODel"
      },
      "source": [
        "class LeNet5(torch.nn.Module):\n",
        "    def __init__(self, inp_dat_sz, \n",
        "                 ks_c1=5, st_c1=1, pd_c1=2, och_c1=6,\n",
        "                 ks_p1=2, st_p1=2, pd_p1=0, \n",
        "                 ks_c2=5, st_c2=1, pd_c2=0, och_c2=16,\n",
        "                 ks_p2=2, st_p2=2, pd_p2=0\n",
        "                 ):\n",
        "        super(LeNet5, self).__init__()\n",
        "        self.inp_dat_sz = inp_dat_sz\n",
        "        self.ks_c1 = ks_c1\n",
        "        self.st_c1 = st_c1\n",
        "        self.pd_c1 = pd_c1\n",
        "        self.och_c1 = och_c1\n",
        "        self.conv1 = torch.nn.Conv2d(\n",
        "            in_channels=1, out_channels=self.och_c1, kernel_size=self.ks_c1, \n",
        "            stride=self.st_c1, padding=self.pd_c1)\n",
        "        self.xsz = (self.inp_dat_sz - self.ks_c1 + 2*self.pd_c1)//self.st_c1 + 1\n",
        "        #print('self.xsz=',self.xsz)\n",
        "        self.act1  = torch.nn.Tanh()\n",
        "\n",
        "        #self.pool1 = torch.nn.MaxPool2d(kernel_size=2, stride=2)\n",
        "        self.ks_p1 = ks_p1\n",
        "        self.st_p1 = st_p1\n",
        "        self.pd_p1 = pd_p1\n",
        "        self.pool1 = torch.nn.AvgPool2d(kernel_size=self.ks_p1, \n",
        "                                        stride=self.st_p1, padding=self.pd_p1)\n",
        "        #self.pool1 = torch.nn.FractionalMaxPool2d(kernel_size=3, output_size=14)\n",
        "        self.xsz1 = (self.xsz - self.ks_p1 + 2*self.pd_p1)//self.st_p1 + 1\n",
        "        #print('self.xsz=',self.xsz)\n",
        "        \n",
        "        self.ks_c2 = ks_c2\n",
        "        self.st_c2 = st_c2\n",
        "        self.pd_c2 = pd_c2\n",
        "        self.och_c2 = och_c2\n",
        "        self.xsz2 = (self.xsz1 - self.ks_c2 + 2*self.pd_c2)//self.st_c2 + 1\n",
        "        self.conv2 = torch.nn.Conv2d(\n",
        "            in_channels=self.och_c1, out_channels=self.och_c2, \n",
        "            kernel_size=self.ks_c2, stride=self.st_c2, padding=self.pd_c2)\n",
        "        #print('self.xsz=',self.xsz)\n",
        "        self.act2  = torch.nn.Tanh()\n",
        "\n",
        "\n",
        "        self.ks_p2 = ks_p2\n",
        "        self.st_p2 = st_p2\n",
        "        self.pd_p2 = pd_p2\n",
        "        self.pool2 = torch.nn.AvgPool2d(kernel_size=self.ks_p2, \n",
        "                                        stride=self.st_p2, padding=self.pd_p2)\n",
        "        #self.pool2 = torch.nn.MaxPool2d(kernel_size=2, stride=2)\n",
        "        #self.pool2 = torch.nn.FractionalMaxPool2d(kernel_size=3, output_size=(1,120))\n",
        "        self.xsz3 = (self.xsz2 - self.ks_p2 + 2*self.pd_p2)//self.st_p2 + 1\n",
        "        self.fc1   = torch.nn.Linear(self.och_c2 * self.xsz3 * self.xsz3, 120)\n",
        "        self.act3  = torch.nn.Tanh()\n",
        "        \n",
        "        self.fc2   = torch.nn.Linear(120, 84)\n",
        "        self.act4  = torch.nn.Tanh()\n",
        "        \n",
        "        self.fc3   = torch.nn.Linear(84, 10)\n",
        "    \n",
        "    def forward(self, x):\n",
        "        x = self.conv1(x)\n",
        "        x = self.act1(x)\n",
        "        x = self.pool1(x)\n",
        "        x = self.conv2(x)\n",
        "        x = self.act2(x)\n",
        "        x = self.pool2(x)\n",
        "        \n",
        "        x = x.view(x.size(0), x.size(1) * x.size(2) * x.size(3))\n",
        "\n",
        "        x = self.fc1(x)\n",
        "        x = self.act3(x)\n",
        "        x = self.fc2(x)\n",
        "        x = self.act4(x)\n",
        "        x = self.fc3(x)\n",
        "        \n",
        "        return x\n",
        "    \n",
        "    def forward_print(self, x):\n",
        "        print('x.shape=',x.shape)\n",
        "        x = self.conv1(x)\n",
        "        print('x conv1=',x.shape)\n",
        "        #print('x 0=',x[0,0])\n",
        "        #print('x 1=',x[0,1])\n",
        "        #print('x 2=',x[0,2])\n",
        "        #print('x 3=',x[0,3])\n",
        "        #print('x 4=',x[0,4])\n",
        "        #print('x 5=',x[0,5])\n",
        "        x = self.act1(x)\n",
        "        print('x act1=',x.shape)\n",
        "        x = self.pool1(x)\n",
        "        print('x pool1=',x.shape)\n",
        "        x = self.conv2(x)\n",
        "        print('x conv2=',x.shape)\n",
        "        x = self.act2(x)\n",
        "        print('x act2=',x.shape)\n",
        "        x = self.pool2(x)\n",
        "        print('x pool2=',x.shape)\n",
        "        \n",
        "        x = x.view(x.size(0), x.size(1) * x.size(2) * x.size(3))\n",
        "        print('x view=',x.shape)\n",
        "\n",
        "        x = self.fc1(x)\n",
        "        print('x fc1=',x.shape)\n",
        "        x = self.act3(x)\n",
        "        print('x act3=',x.shape)\n",
        "        x = self.fc2(x)\n",
        "        print('x fc2=',x.shape)\n",
        "        x = self.act4(x)\n",
        "        print('x act4=',x.shape)\n",
        "        x = self.fc3(x)\n",
        "        print('x fc3=',x.shape)\n",
        "        \n",
        "        return x\n",
        "    "
      ],
      "execution_count": 9,
      "outputs": []
    },
    {
      "cell_type": "code",
      "metadata": {
        "id": "qT-PsO7VNZfB"
      },
      "source": [
        "#device = torch.device('cuda:0' if torch.cuda.is_available() else 'cpu')\n",
        "#lenet5 = lenet5.to(device)"
      ],
      "execution_count": 10,
      "outputs": []
    },
    {
      "cell_type": "code",
      "metadata": {
        "id": "rkK0kv1VNZfL"
      },
      "source": [
        "#loss = torch.nn.CrossEntropyLoss()\n",
        "#optimizer = torch.optim.Adam(lenet5.parameters(), lr=1.0e-3)\n",
        "#optimizer = torch.optim.SGD(lenet5.parameters(), lr=0.5)\n",
        "#scheduler = torch.optim.lr_scheduler.CosineAnnealingLR(optimizer, T_max=50)"
      ],
      "execution_count": 11,
      "outputs": []
    },
    {
      "cell_type": "code",
      "metadata": {
        "colab": {
          "base_uri": "https://localhost:8080/"
        },
        "id": "XfA9gqSdNZfQ",
        "outputId": "d6130efa-9bb3-40a7-bbd1-6a3a321db010"
      },
      "source": [
        "device = torch.device('cuda:0' if torch.cuda.is_available() else 'cpu')\n",
        "\n",
        "batch_size = 10000\n",
        "\n",
        "test_accuracy_history = []\n",
        "test_loss_history = []\n",
        "\n",
        "X_test = X_test.to(device)\n",
        "y_test = y_test.to(device)\n",
        "\n",
        "\"\"\"\n",
        "                 ks_c1=5, st_c1=1, pd_c1=2, och_c1=6,\n",
        "                 ks_p1=2, st_p1=2, pd_p1=0, \n",
        "                 ks_c2=5, st_c2=1, pd_c2=0, och_c2=16,\n",
        "                 ks_p2=2, st_p2=2, pd_p2=0\n",
        "\n",
        "lenet5 = LeNet5(28,\n",
        "                5,1,2,6,\n",
        "                3,2,0,\n",
        "                5,1,0,16,\n",
        "                2,2,0)  \n",
        "ks_c2=5\n",
        "st_c2=1\n",
        "pd_c2=0\n",
        "och_c2=16\n",
        "ks_p2=2\n",
        "st_p2=2\n",
        "pd_p2=0\n",
        "for och_c1 in [2,3,4,5,6,7,8]:\n",
        "  for ks_c1 in [2,3,4,5,6,7,8]:\n",
        "    for st_c1 in [2,3,4]:\n",
        "      if st_c1 > ks_c1:\n",
        "        continue\n",
        "      for pd_c1 in [0,1,2,3,4]:\n",
        "        if pd_c1 > ks_c1//2:\n",
        "          continue \n",
        "        for ks_p1 in [2,3,4,5]:\n",
        "          for st_p1 in [1,2,3,4]:\n",
        "            if st_p1 != ks_p1:\n",
        "              continue\n",
        "            for pd_p1 in [0,1,2,3,4]:\n",
        "              if pd_p1 > ks_p1//2:\n",
        "                continue\n",
        "\"\"\"\n",
        "ks_c1=5\n",
        "st_c1=1\n",
        "pd_c1=2\n",
        "och_c1=6\n",
        "ks_p1=2\n",
        "st_p1=2\n",
        "pd_p1=0\n",
        "inp_dat_sz = 28\n",
        "accuracy_max = 0\n",
        "for och_c2 in [12,14,16,18,20]:\n",
        "  for ks_c2 in [2,3,4,5,6,7,8]:\n",
        "    for st_c2 in [1,2,3,4,5]:\n",
        "      if st_c2 > ks_c2:\n",
        "        continue\n",
        "      for pd_c2 in [0,1,2,3,4]:\n",
        "        if pd_c2 > ks_c2//2:\n",
        "          continue \n",
        "        for ks_p2 in [2,3,4,5]:\n",
        "          for st_p2 in [1,2,3,4]:\n",
        "            if st_p2 > ks_p2:\n",
        "              continue\n",
        "            for pd_p2 in [0,1,2,3,4]:\n",
        "              if pd_p2 > ks_p2//2:\n",
        "                continue\n",
        "              xsz = (inp_dat_sz - ks_c1 + 2*pd_c1)//st_c1 + 1\n",
        "              xsz1 = (xsz - ks_p1 + 2*pd_p1)//st_p1 + 1\n",
        "              xsz2 = (xsz1 - ks_c2 + 2*pd_c2)//st_c2 + 1\n",
        "              xsz3 = (xsz2 - ks_p2 + 2*pd_p2)//st_p2 + 1\n",
        "              if xsz2<=0 or xsz3<=0 or xsz<=0 or xsz1<=0:\n",
        "                continue\n",
        "              print('\\t',' xsz=',xsz,xsz1,xsz2,xsz3)\n",
        "              \n",
        "              lenet5 = LeNet5(inp_dat_sz,\n",
        "                              ks_c1,st_c1,pd_c1,och_c1,\n",
        "                              ks_p1,st_p1,pd_p1,\n",
        "                              ks_c2, st_c2, pd_c2, och_c2,\n",
        "                              ks_p2, st_p2, pd_p2\n",
        "                              )  \n",
        "              lenet5 = lenet5.to(device)              \n",
        "              loss = torch.nn.CrossEntropyLoss()\n",
        "              optimizer = torch.optim.Adam(lenet5.parameters(), lr=1.0e-3)\n",
        "              for epoch in range(150):\n",
        "                  order = np.random.permutation(len(X_train))\n",
        "                  for start_index in range(0, len(X_train), batch_size):\n",
        "                      optimizer.zero_grad()\n",
        "                      \n",
        "                      batch_indexes = order[start_index:start_index+batch_size]\n",
        "                      \n",
        "                      X_batch = X_train[batch_indexes].to(device)\n",
        "                      y_batch = y_train[batch_indexes].to(device)\n",
        "                      \n",
        "                      preds = lenet5.forward(X_batch) \n",
        "                      \n",
        "                      loss_value = loss(preds, y_batch)\n",
        "                      loss_value.backward()\n",
        "                      \n",
        "                      optimizer.step()\n",
        "                      #scheduler.step()\n",
        "                      \n",
        "              test_preds = lenet5.forward(X_test)\n",
        "              test_loss_history.append(loss(test_preds, y_test).data.cpu())\n",
        "\n",
        "              accuracy = (test_preds.argmax(dim=1) == y_test).float().mean().data.cpu()\n",
        "              test_accuracy_history.append(accuracy)\n",
        "              #print('\\t',accuracy, ks_c1,st_c1,pd_c1,och_c1,ks_p1,st_p1,pd_p1)\n",
        "              print('\\t',accuracy, ks_c2,st_c2,pd_c2,och_c2,ks_p2,st_p2,pd_p2)\n",
        "              if accuracy > accuracy_max:\n",
        "                accuracy_max = accuracy\n",
        "                #print('MAX=',accuracy, ks_c1,st_c1,pd_c1,och_c1,ks_p1,st_p1,pd_p1)\n",
        "                print('MAX=',accuracy, ks_c2,st_c2,pd_c2,och_c2,ks_p2,st_p2,pd_p2)\n"
      ],
      "execution_count": null,
      "outputs": [
        {
          "output_type": "stream",
          "text": [
            "\t  xsz= 28 14 13 12\n"
          ],
          "name": "stdout"
        }
      ]
    },
    {
      "cell_type": "markdown",
      "metadata": {
        "id": "H4hjogO8NZfS"
      },
      "source": [
        "lenet5.forward(X_test)"
      ]
    },
    {
      "cell_type": "code",
      "metadata": {
        "id": "4FDtagQvNZfU"
      },
      "source": [
        "plt.plot(test_accuracy_history);\n",
        "#plt.plot(test_loss_history);"
      ],
      "execution_count": null,
      "outputs": []
    },
    {
      "cell_type": "code",
      "metadata": {
        "id": "vta37dlSNZfZ"
      },
      "source": [
        ""
      ],
      "execution_count": null,
      "outputs": []
    }
  ]
}